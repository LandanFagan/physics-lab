{
 "cells": [
  {
   "cell_type": "code",
   "execution_count": 35,
   "metadata": {},
   "outputs": [],
   "source": [
    "# Thermal Expansion Lab\n",
    "# Landan Fagan\n",
    "# Jan. 16 2020\n",
    "\n",
    "# delta_L = alpha * L * delta_t\n",
    "    # where delta_t = t_final - t_initial\n",
    "\n",
    "import numpy as np\n",
    "    \n",
    "L = 1.05 #m\n",
    "delta_L = 0.001 #m\n",
    "err_L = 0.00125 #m\n",
    "err_delta_L = 0.0001 #m\n",
    "T_initial = 23.4 #°C\n",
    "T_final = 92.5 #°C\n",
    "err_T_initial = 0.3 #°C\n",
    "err_T_final = 0.1 #°C\n",
    "\n",
    "def alpha_calc(Li, Lf, Ti, Tf):\n",
    "    \"\"\"\n",
    "    Li: Initial Length. Units: Meters\n",
    "    Lf: Final Length. Units: Meters\n",
    "    Ti: Temperature Initial. Units: °C or K\n",
    "    Tf: Temperature Final. Units: °C or K\n",
    "    \"\"\"\n",
    "    delta_l = Lf-Li\n",
    "    delta_t = Tf-Ti\n",
    "    \n",
    "    return delta_l/(Li*delta_t)\n",
    "\n",
    "def rule3(errA, errB):\n",
    "    \"\"\"\n",
    "    If Q = A+B, errQ = sqrt(errA**2+errB**2)\n",
    "    errA: The error in quantity A\n",
    "    errB: The error in quantity B\n",
    "    \"\"\"\n",
    "    errQ = np.sqrt(errA**2+errB**2)\n",
    "    return errQ\n",
    "\n",
    "def rule4(Q, A, errA, expA, B, errB, expB, C, errC, expC):\n",
    "    \"\"\"\n",
    "    Q: The function that calculates the value that needs it's error determined.\n",
    "    A: The function that calculates the value for A\n",
    "    errA: The error in quantity A\n",
    "    expA: The power (exponent) of quantity A\n",
    "    ...and so on and so forth.\n",
    "    \"\"\"\n",
    "    errQ = np.abs(Q) * np.sqrt((expA*(errA/A))**2+(expB*(errB/B))**2+(expC*(errC/C))**2)\n",
    "    return errQ"
   ]
  },
  {
   "cell_type": "code",
   "execution_count": 38,
   "metadata": {},
   "outputs": [],
   "source": [
    "alpha = alpha_calc(1.05, 1.051, 23.4, 92.5)\n",
    "err_alpha = rule4(alpha_calc(1.05, 1.051, 23.4, 92.5), delta_L, err_delta_L, 1, L, err_L, 1, T_final-T_initial, rule3(err_T_initial, err_T_final), 1)"
   ]
  },
  {
   "cell_type": "code",
   "execution_count": 39,
   "metadata": {},
   "outputs": [
    {
     "name": "stdout",
     "output_type": "stream",
     "text": [
      "The value of alpha is  1.3782647646611397e-05  plus or minus  1.3798048369831627e-06  °C^-1.\n"
     ]
    }
   ],
   "source": [
    "print(\"The value of alpha is \", alpha, \" plus or minus \", err_alpha, \" °C^-1.\")"
   ]
  },
  {
   "cell_type": "code",
   "execution_count": null,
   "metadata": {},
   "outputs": [],
   "source": []
  }
 ],
 "metadata": {
  "kernelspec": {
   "display_name": "Python 3",
   "language": "python",
   "name": "python3"
  },
  "language_info": {
   "codemirror_mode": {
    "name": "ipython",
    "version": 3
   },
   "file_extension": ".py",
   "mimetype": "text/x-python",
   "name": "python",
   "nbconvert_exporter": "python",
   "pygments_lexer": "ipython3",
   "version": "3.7.4"
  }
 },
 "nbformat": 4,
 "nbformat_minor": 2
}
